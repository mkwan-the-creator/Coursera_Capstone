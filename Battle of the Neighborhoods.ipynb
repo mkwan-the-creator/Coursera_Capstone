{
 "cells": [
  {
   "cell_type": "markdown",
   "metadata": {},
   "source": [
    "# Introduction / Business Problem"
   ]
  },
  {
   "cell_type": "markdown",
   "metadata": {},
   "source": [
    "This final project explores the neighborhoods of Seattle, WA in hopes of locating the optimal locations to live that supports dog ownership. The city of Seattle is a popular location to live for both the lively city life and for career opportunities, but it is a large city of 127 neighborhoods and that can pose problems as to deciding where to live for those that own a dog. Dog ownership is often times more time and resource intensive than cat ownership as they need to go on walks and need other living requirements met, presenting the problem of finding resources nearby like pet shops, dog parks, and dog daycares among other commonly sought after resources. There are many neighborhoods to choose from in Seattle and each area offers different benefits, so it can be a daunting task to find a location that is optimal for dog ownership. In addition to finding locations with the highest density of dog-related venues, I will also try to identify the highest rated dog daycare venues available within each cluster. "
   ]
  },
  {
   "cell_type": "markdown",
   "metadata": {},
   "source": [
    "# Data"
   ]
  },
  {
   "cell_type": "markdown",
   "metadata": {},
   "source": [
    "To address the questions stated above, data on Seattle neighborhoods, boroughs, latitude, longitude and venues will be needed.\n",
    "\n",
    "The data on Seattle neighborhoods will be obtained from wikipedia: \"https://en.wikipedia.org/wiki/List_of_neighborhoods_in_Seattle\"\n",
    "\n",
    "Longitude and latitude data will be obtained with the geolocation API and by using venue data from foursquare, a cluster map of dog oriented venues will be made in order to visualize the best areas to own a dog in Seattle. "
   ]
  },
  {
   "cell_type": "code",
   "execution_count": null,
   "metadata": {},
   "outputs": [],
   "source": []
  }
 ],
 "metadata": {
  "kernelspec": {
   "display_name": "Python 3",
   "language": "python",
   "name": "python3"
  },
  "language_info": {
   "codemirror_mode": {
    "name": "ipython",
    "version": 3
   },
   "file_extension": ".py",
   "mimetype": "text/x-python",
   "name": "python",
   "nbconvert_exporter": "python",
   "pygments_lexer": "ipython3",
   "version": "3.7.3"
  }
 },
 "nbformat": 4,
 "nbformat_minor": 4
}
